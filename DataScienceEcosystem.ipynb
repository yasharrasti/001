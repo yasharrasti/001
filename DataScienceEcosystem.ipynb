{
 "cells": [
  {
   "cell_type": "markdown",
   "id": "a7ecba9a",
   "metadata": {},
   "source": [
    "## Data Science Tools and Ecosystem\n",
    "#### In this notebook, Data Science Tools and Ecosystem are summarized."
   ]
  },
  {
   "cell_type": "markdown",
   "id": "af12f4f3",
   "metadata": {},
   "source": [
    "**Objectives:**\n",
    "- list popular languages for Data science\n",
    "- list libraries\n",
    "- code examples\n"
   ]
  },
  {
   "cell_type": "markdown",
   "id": "65a2e795",
   "metadata": {},
   "source": [
    "#### Some of the popular languages that Data Scientists use are:\n",
    "1. Python\n",
    "2. R\n",
    "3. HTML"
   ]
  },
  {
   "cell_type": "markdown",
   "id": "71945f5d",
   "metadata": {},
   "source": [
    "#### Some of the commonly used libraries used by Data Scientists include:\n",
    "1. numpy\n",
    "2. pandas\n",
    "3. maplot\n"
   ]
  },
  {
   "cell_type": "markdown",
   "id": "2e927160",
   "metadata": {},
   "source": [
    "| Data science tools |\n",
    "|--------------------|\n",
    "| Jupiter notebook   |\n",
    "| R studio           |\n",
    "| Anacanda           |\n",
    "| watson studio      |"
   ]
  },
  {
   "cell_type": "markdown",
   "id": "718d500f",
   "metadata": {},
   "source": [
    "### Below are a few examples of evaluating arithmetic expressions in Python"
   ]
  },
  {
   "cell_type": "code",
   "execution_count": 12,
   "id": "362273eb",
   "metadata": {},
   "outputs": [
    {
     "data": {
      "text/plain": [
       "17"
      ]
     },
     "execution_count": 12,
     "metadata": {},
     "output_type": "execute_result"
    }
   ],
   "source": [
    "(3*4)+5\n",
    "# This a simple arithmetic expression to mutiply then add integers\n"
   ]
  },
  {
   "cell_type": "code",
   "execution_count": 22,
   "id": "e8358643",
   "metadata": {},
   "outputs": [
    {
     "name": "stdout",
     "output_type": "stream",
     "text": [
      "3.20\n"
     ]
    }
   ],
   "source": [
    " #This will convert 200 minutes to hours by diving by 60.\n",
    "min = int(input('enter min'))\n",
    "hour= (f\"{(200//60)+((200%60)/100):.2f}\")\n",
    "print(hour)"
   ]
  },
  {
   "cell_type": "markdown",
   "id": "99328d9b",
   "metadata": {},
   "source": [
    "## Author Yashar Rasti"
   ]
  }
 ],
 "metadata": {
  "kernelspec": {
   "display_name": "Python 3",
   "language": "python",
   "name": "python3"
  },
  "language_info": {
   "codemirror_mode": {
    "name": "ipython",
    "version": 3
   },
   "file_extension": ".py",
   "mimetype": "text/x-python",
   "name": "python",
   "nbconvert_exporter": "python",
   "pygments_lexer": "ipython3",
   "version": "3.9.0"
  }
 },
 "nbformat": 4,
 "nbformat_minor": 5
}
